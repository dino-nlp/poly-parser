{
 "cells": [
  {
   "cell_type": "markdown",
   "id": "488e48d2",
   "metadata": {},
   "source": [
    "# Agent 1: Document Parser Agent\n",
    "\n",
    "* *Job:* Uses strong tools (like `PyMuPDF`, `unstructured.io`, `Marker`) and might use information from Agent 0. Pulls out the basic parts: text blocks, images, tables, charts. Gets basic extra information about the document (file name, page number).\n",
    "* *(Improvement):* Could add a special **Metadata Agent** to find and organize more detailed extra information (author, title, creation date, etc.).\n",
    "* *Output:* Raw pieces of data sorted by type."
   ]
  },
  {
   "cell_type": "code",
   "execution_count": 6,
   "id": "e7ec210e",
   "metadata": {},
   "outputs": [
    {
     "name": "stdout",
     "output_type": "stream",
     "text": [
      "Successfully imported modules.\n"
     ]
    }
   ],
   "source": [
    "import sys\n",
    "import os\n",
    "\n",
    "# Lấy đường dẫn đến thư mục gốc của dự án (poly-parser)\n",
    "# Giả sử notebook đang ở trong thư mục 'notebooks'\n",
    "project_root = os.path.abspath(os.path.join(os.getcwd(), '..'))\n",
    "\n",
    "# Thêm thư mục gốc vào sys.path nếu chưa có\n",
    "if project_root not in sys.path:\n",
    "    sys.path.insert(0, project_root)\n",
    "    print(f\"Added '{project_root}' to sys.path\")\n",
    "\n",
    "# Bây giờ bạn có thể import các module từ thư mục gốc và thư mục agents\n",
    "try:\n",
    "    from graph_definition import GraphState, create_graph_nodes\n",
    "    from agents import parser\n",
    "    print(\"Successfully imported modules.\")\n",
    "except ImportError as e:\n",
    "    print(f\"Error importing modules: {e}\")\n",
    "    print(\"Ensure the notebook is in the 'notebooks' directory and the structure is correct.\")\n",
    "\n",
    "# --- Tiếp tục code của notebook ở đây ---\n",
    "# Ví dụ:\n",
    "# pdf_file_path = '../sample_pdfs/example.pdf' # Đường dẫn tương đối từ notebook\n",
    "# initial_state = GraphState(pdf_path=pdf_file_path, ...) # Tạo state ban đầu\n",
    "# parser_output = parser.parse_document(initial_state)\n",
    "# print(parser_output)"
   ]
  },
  {
   "cell_type": "code",
   "execution_count": 7,
   "id": "25c48ee6",
   "metadata": {},
   "outputs": [
    {
     "name": "stdout",
     "output_type": "stream",
     "text": [
      "Parsing document: ../sample_pdfs/part0.pdf\n",
      "Parsed 74 raw elements from 9 pages.\n",
      "{'raw_elements': [{'type': 'text', 'content': '7  \\n  \\n1.   \\nGIỚI THIỆU TỔNG QUAN', 'metadata': {'page_number': 1, 'bbox': (85.10399627685547, 36.212650299072266, 318.42999267578125, 80.19261169433594)}}, {'type': 'text', 'content': '1.1   \\nĐối tượng sử dụng', 'metadata': {'page_number': 1, 'bbox': (85.10399627685547, 89.7938003540039, 236.0, 105.53263854980469)}}, {'type': 'text', 'content': '-   \\nDùng cho công dân Việt Nam có căn cước công dân gắn chíp thực hiện  \\nđăng ký tài khoản Định danh diện tử', 'metadata': {'page_number': 1, 'bbox': (85.10399627685547, 115.23380279541016, 542.2900390625, 150.2926483154297)}}, {'type': 'text', 'content': '1.2   \\n Mô tả tài liệu', 'metadata': {'page_number': 1, 'bbox': (85.10399627685547, 160.11380004882812, 207.79998779296875, 175.85264587402344)}}, {'type': 'text', 'content': 'Nội dung tài liệu bao gồm các phần sau:', 'metadata': {'page_number': 1, 'bbox': (85.10399627685547, 185.39031982421875, 314.1400146484375, 200.93260192871094)}}, {'type': 'text', 'content': '1.   \\nMục A: Giới thiệu tổng quan', 'metadata': {'page_number': 1, 'bbox': (85.10399627685547, 210.51376342773438, 287.2400207519531, 226.2526092529297)}}, {'type': 'text', 'content': '2.   \\nMục B: Hướng dẫn các chức năng hệ thống có trên APP cho người dân sử  \\ndụng.', 'metadata': {'page_number': 1, 'bbox': (85.10399627685547, 235.83377075195312, 542.2900390625, 270.89263916015625)}}, {'type': 'text', 'content': '1.3   \\n Thuật ngữ viết tắt', 'metadata': {'page_number': 1, 'bbox': (85.10399627685547, 280.7438049316406, 236.47999572753906, 296.482666015625)}}, {'type': 'text', 'content': 'STT  \\nThuật ngữ   \\nÝ nghĩa', 'metadata': {'page_number': 1, 'bbox': (91.8239974975586, 312.620361328125, 435.82000732421875, 328.16265869140625)}}, {'type': 'text', 'content': '1  \\nCCCD  \\nCăn cước công dân', 'metadata': {'page_number': 1, 'bbox': (100.81999969482422, 349.2203369140625, 392.6199951171875, 364.76263427734375)}}, {'type': 'text', 'content': '2  \\nSĐT  \\nSố điện thoại', 'metadata': {'page_number': 1, 'bbox': (100.81999969482422, 385.8203430175781, 358.6600036621094, 401.3626403808594)}}, {'type': 'text', 'content': '3  \\nNSD  \\nNgười sử dụng', 'metadata': {'page_number': 1, 'bbox': (100.81999969482422, 422.54034423828125, 368.7400207519531, 438.0826416015625)}}, {'type': 'text', 'content': '1.4 Cấu trúc hệ thống', 'metadata': {'page_number': 1, 'bbox': (85.10399627685547, 465.28033447265625, 218.1199951171875, 480.8226318359375)}}, {'type': 'text', 'content': 'Sau khi đăng nhập vào hệ thống, màn hình trang chủ hiển thị giao diện như hình.', 'metadata': {'page_number': 1, 'bbox': (85.10399627685547, 490.3603515625, 541.9299926757812, 505.90264892578125)}}, {'type': 'table', 'content': [['', 'STT', '', '', 'Thuật ngữ', '', '', 'Ý nghĩa', ''], ['1', None, None, 'CCCD', None, None, 'Căn cước công dân', None, None], ['2', None, None, 'SĐT', None, None, 'Số điện thoại', None, None], ['3', None, None, 'NSD', None, None, 'Người sử dụng', None, None]], 'metadata': {'page_number': 1, 'bbox': (79.70399856567383, 306.28074763371393, 544.1599833170573, 452.7499885559082), 'table_index': 0}}, {'type': 'text', 'content': '8', 'metadata': {'page_number': 2, 'bbox': (85.10399627685547, 36.212650299072266, 318.42999267578125, 64.08000946044922)}}, {'type': 'text', 'content': 'Hình 1 Giao diện trang chủ mức 0', 'metadata': {'page_number': 2, 'bbox': (215.3300018310547, 497.4403381347656, 412.05999755859375, 512.9826049804688)}}, {'type': 'text', 'content': '1.5 Chức năng chung', 'metadata': {'page_number': 2, 'bbox': (85.10399627685547, 523.120361328125, 215.239990234375, 538.6626586914062)}}, {'type': 'text', 'content': '-  Đăng nhập', 'metadata': {'page_number': 2, 'bbox': (85.10399627685547, 544.9603271484375, 161.3300018310547, 560.5026245117188)}}, {'type': 'text', 'content': '-  Đăng ký mức 0', 'metadata': {'page_number': 2, 'bbox': (85.10399627685547, 567.0403442382812, 186.76998901367188, 582.5826416015625)}}, {'type': 'text', 'content': '-  Quên mật khẩu', 'metadata': {'page_number': 2, 'bbox': (85.10399627685547, 589.120361328125, 185.80999755859375, 604.6626586914062)}}, {'type': 'text', 'content': '-  Đăng ký mức 1', 'metadata': {'page_number': 2, 'bbox': (85.10399627685547, 611.2003173828125, 186.76998901367188, 626.7426147460938)}}, {'type': 'text', 'content': '-  Kích hoạt tài khoản', 'metadata': {'page_number': 2, 'bbox': (85.10399627685547, 633.4003295898438, 210.3199920654297, 648.942626953125)}}, {'type': 'text', 'content': '-  Trang chủ', 'metadata': {'page_number': 2, 'bbox': (85.10399627685547, 655.5103759765625, 160.97000122070312, 671.0526733398438)}}, {'type': 'text', 'content': '-  Ví giấy tờ', 'metadata': {'page_number': 2, 'bbox': (85.10399627685547, 677.59033203125, 160.12998962402344, 693.1326293945312)}}, {'type': 'text', 'content': '-  Tab Cá nhân', 'metadata': {'page_number': 2, 'bbox': (85.10399627685547, 699.6703491210938, 171.76998901367188, 715.212646484375)}}, {'type': 'text', 'content': '- Đổi tài khoản', 'metadata': {'page_number': 2, 'bbox': (85.10399627685547, 721.7503662109375, 172.97000122070312, 737.2926635742188)}}, {'type': 'text', 'content': '- Thông báo lưu trú', 'metadata': {'page_number': 2, 'bbox': (85.10399627685547, 743.8263549804688, 198.0800018310547, 759.36865234375)}}, {'type': 'image_ref', 'content': 'Image_2_0.jpeg', 'metadata': {'page_number': 2, 'xref': 51, 'temp_image_path': None}}, {'type': 'text', 'content': '9  \\n  \\n2.   HƯỚNG DẪN SỬ DỤNG', 'metadata': {'page_number': 3, 'bbox': (85.10399627685547, 36.212650299072266, 318.42999267578125, 80.19261169433594)}}, {'type': 'text', 'content': '2.1   Hướng dẫn cài đặt', 'metadata': {'page_number': 3, 'bbox': (85.10399627685547, 89.7938003540039, 232.39999389648438, 105.53263854980469)}}, {'type': 'text', 'content': '2.1.1     Đối với hệ điều hành Android', 'metadata': {'page_number': 3, 'bbox': (85.10399627685547, 115.11380767822266, 305.96002197265625, 130.85264587402344)}}, {'type': 'text', 'content': 'Cài đặt ứng dụng từ CH Play', 'metadata': {'page_number': 3, 'bbox': (85.10399627685547, 140.39031982421875, 251.59999084472656, 155.93260192871094)}}, {'type': 'text', 'content': '-    Bước 1 :  NSD truy cập ứng dụng CH Play   \\uf0e0  Tại thanh công cụ tìm kiếm  \\uf0e0   \\nTìm từ khoá “ VNeID ”', 'metadata': {'page_number': 3, 'bbox': (85.10399627685547, 165.59800720214844, 542.2900390625, 200.57261657714844)}}, {'type': 'text', 'content': 'Hình 2.1-1 Tìm kiếm ứng dụng trên CH Play', 'metadata': {'page_number': 3, 'bbox': (186.52999877929688, 543.7603759765625, 440.77001953125, 559.3026733398438)}}, {'type': 'text', 'content': '-   Bước 2 :  Sau khi App cần tải hiển thị   \\uf0e0  Chọn “  Cài đặt ” để tải App  “Ứng', 'metadata': {'page_number': 3, 'bbox': (85.10399627685547, 569.2437744140625, 542.2720336914062, 585.4599609375)}}, {'type': 'text', 'content': 'dụng định danh điện tử - VNeID”  về máy.', 'metadata': {'page_number': 3, 'bbox': (103.0999984741211, 588.6403198242188, 355.9000244140625, 604.1826171875)}}, {'type': 'image_ref', 'content': 'Image_3_0.jpeg', 'metadata': {'page_number': 3, 'xref': 62, 'temp_image_path': None}}, {'type': 'image_ref', 'content': 'Image_3_1.png', 'metadata': {'page_number': 3, 'xref': 63, 'temp_image_path': None}}, {'type': 'text', 'content': '10', 'metadata': {'page_number': 4, 'bbox': (85.10399627685547, 36.212650299072266, 321.66998291015625, 64.08000946044922)}}, {'type': 'text', 'content': 'Hình 2.1-2 Cài đặt ứng dụng', 'metadata': {'page_number': 4, 'bbox': (230.69000244140625, 492.40032958984375, 400.05999755859375, 507.942626953125)}}, {'type': 'text', 'content': '-   Bước 3:   NSD chọn “ Mở ” để mở ứng dụng định danh điện tử - VNeID vừa', 'metadata': {'page_number': 4, 'bbox': (85.10399627685547, 517.8837890625, 542.2897338867188, 534.0999755859375)}}, {'type': 'text', 'content': 'tải.', 'metadata': {'page_number': 4, 'bbox': (103.0999984741211, 537.2803344726562, 124.1300048828125, 552.8226318359375)}}, {'type': 'text', 'content': '-    Bước 4: Sau khi tải về và cài đặt, NSD ấn chạy ứng dụng và ấn “ Bắt đầu sử  \\ndụng ” để tiến hành sử dụng app:', 'metadata': {'page_number': 4, 'bbox': (85.10399627685547, 562.600341796875, 542.2900390625, 597.462646484375)}}, {'type': 'image_ref', 'content': 'Image_4_0.jpeg', 'metadata': {'page_number': 4, 'xref': 77, 'temp_image_path': None}}, {'type': 'image_ref', 'content': 'Image_4_1.jpeg', 'metadata': {'page_number': 4, 'xref': 78, 'temp_image_path': None}}, {'type': 'text', 'content': '11', 'metadata': {'page_number': 5, 'bbox': (85.10399627685547, 36.212650299072266, 321.66998291015625, 64.08000946044922)}}, {'type': 'text', 'content': 'Hình 2.1-3 Màn chào khi mở ứng dụng', 'metadata': {'page_number': 5, 'bbox': (202.3699951171875, 731.226318359375, 428.3800048828125, 746.7686157226562)}}, {'type': 'image_ref', 'content': 'Image_5_0.jpeg', 'metadata': {'page_number': 5, 'xref': 81, 'temp_image_path': None}}, {'type': 'image_ref', 'content': 'Image_5_1.jpeg', 'metadata': {'page_number': 5, 'xref': 82, 'temp_image_path': None}}, {'type': 'image_ref', 'content': 'Image_5_2.jpeg', 'metadata': {'page_number': 5, 'xref': 83, 'temp_image_path': None}}, {'type': 'image_ref', 'content': 'Image_5_3.jpeg', 'metadata': {'page_number': 5, 'xref': 84, 'temp_image_path': None}}, {'type': 'text', 'content': '12  \\n  \\n2.1.2   Đối với hệ điều hành IOS', 'metadata': {'page_number': 6, 'bbox': (85.10399627685547, 36.212650299072266, 321.66998291015625, 80.19261169433594)}}, {'type': 'text', 'content': 'Cài đặt ứng dụng từ App Store', 'metadata': {'page_number': 6, 'bbox': (85.10399627685547, 89.7503662109375, 264.32000732421875, 105.29264831542969)}}, {'type': 'text', 'content': '-    Bước 1: NSD mở App store trên thiết bị di động', 'metadata': {'page_number': 6, 'bbox': (85.10399627685547, 115.0703125, 377.8600158691406, 130.6125946044922)}}, {'type': 'text', 'content': 'Hình 2.1-4 Vào kho ứng dụng', 'metadata': {'page_number': 6, 'bbox': (228.41000366210938, 467.3203430175781, 398.9800109863281, 503.6226501464844)}}, {'type': 'text', 'content': '-   Bước 2: Tại mục Tìm kiếm NSD gõ “ VNeID ”', 'metadata': {'page_number': 6, 'bbox': (85.10399627685547, 513.4003295898438, 363.70001220703125, 528.942626953125)}}, {'type': 'image_ref', 'content': 'Image_6_0.jpeg', 'metadata': {'page_number': 6, 'xref': 87, 'temp_image_path': None}}, {'type': 'text', 'content': '13', 'metadata': {'page_number': 7, 'bbox': (85.10399627685547, 36.212650299072266, 321.66998291015625, 64.08000946044922)}}, {'type': 'text', 'content': 'Hình 2.1-5 Vào kho ứng dụng', 'metadata': {'page_number': 7, 'bbox': (228.41000366210938, 382.2203369140625, 398.9800109863281, 397.76263427734375)}}, {'type': 'text', 'content': '-   Bước 3: NSD nhấn “ Nhận”  để tải ứng dụng VNeID về thiết bị di động', 'metadata': {'page_number': 7, 'bbox': (85.10399627685547, 407.54034423828125, 501.25, 423.0826416015625)}}, {'type': 'text', 'content': 'Hình 2.1-6 Tìm kiếm ứng dụng trên App Store', 'metadata': {'page_number': 7, 'bbox': (183.02000427246094, 762.6663208007812, 444.3699951171875, 778.2086181640625)}}, {'type': 'image_ref', 'content': 'Image_7_0.png', 'metadata': {'page_number': 7, 'xref': 90, 'temp_image_path': None}}, {'type': 'image_ref', 'content': 'Image_7_1.jpeg', 'metadata': {'page_number': 7, 'xref': 91, 'temp_image_path': None}}, {'type': 'text', 'content': '14  \\n  \\n-    Bước 4: Sau khi tải xong, NSD click vào ứng dụng trên màn hình chính hoặc  \\nchọn  Mở  trên App Store để bắt đầu sử dụng', 'metadata': {'page_number': 8, 'bbox': (85.10399627685547, 36.212650299072266, 542.2897338867188, 97.37260437011719)}}, {'type': 'text', 'content': 'Hình 2.1-7 Ứng dụng trên điện thoại', 'metadata': {'page_number': 8, 'bbox': (215.80999755859375, 439.4603271484375, 425.5, 455.00262451171875)}}, {'type': 'text', 'content': '+ NSD ấn “ Bắt đầu sử dụng ” để bắt đầu sử dụng app:', 'metadata': {'page_number': 8, 'bbox': (99.14399719238281, 465.40032958984375, 410.8600158691406, 480.942626953125)}}, {'type': 'image_ref', 'content': 'Image_8_0.jpeg', 'metadata': {'page_number': 8, 'xref': 94, 'temp_image_path': None}}, {'type': 'text', 'content': '15', 'metadata': {'page_number': 9, 'bbox': (85.10399627685547, 36.212650299072266, 321.66998291015625, 64.08000946044922)}}, {'type': 'text', 'content': 'Hình 2.1-8 Màn hình chào khi mở ứng dụng', 'metadata': {'page_number': 9, 'bbox': (188.3300018310547, 724.0303344726562, 439.0899963378906, 739.5726318359375)}}, {'type': 'image_ref', 'content': 'Image_9_0.jpeg', 'metadata': {'page_number': 9, 'xref': 81, 'temp_image_path': None}}, {'type': 'image_ref', 'content': 'Image_9_1.jpeg', 'metadata': {'page_number': 9, 'xref': 97, 'temp_image_path': None}}, {'type': 'image_ref', 'content': 'Image_9_2.jpeg', 'metadata': {'page_number': 9, 'xref': 83, 'temp_image_path': None}}, {'type': 'image_ref', 'content': 'Image_9_3.jpeg', 'metadata': {'page_number': 9, 'xref': 84, 'temp_image_path': None}}], 'metadata': {'source': '../sample_pdfs/part0.pdf', 'page_count': 9}}\n"
     ]
    }
   ],
   "source": [
    "pdf_file_path = '../sample_pdfs/part0.pdf'\n",
    "initial_state = GraphState(pdf_path=pdf_file_path)\n",
    "parser_output = parser.parse_document(initial_state)\n",
    "print(parser_output)"
   ]
  },
  {
   "cell_type": "code",
   "execution_count": 9,
   "id": "cf198c6d",
   "metadata": {},
   "outputs": [
    {
     "data": {
      "text/plain": [
       "dict_keys(['raw_elements', 'metadata'])"
      ]
     },
     "execution_count": 9,
     "metadata": {},
     "output_type": "execute_result"
    }
   ],
   "source": [
    "parser_output.keys()"
   ]
  },
  {
   "cell_type": "code",
   "execution_count": 10,
   "id": "193ec24e",
   "metadata": {},
   "outputs": [
    {
     "data": {
      "text/plain": [
       "74"
      ]
     },
     "execution_count": 10,
     "metadata": {},
     "output_type": "execute_result"
    }
   ],
   "source": [
    "len(parser_output['raw_elements'])"
   ]
  },
  {
   "cell_type": "code",
   "execution_count": 11,
   "id": "7f935bf7",
   "metadata": {},
   "outputs": [
    {
     "data": {
      "text/plain": [
       "{'source': '../sample_pdfs/part0.pdf', 'page_count': 9}"
      ]
     },
     "execution_count": 11,
     "metadata": {},
     "output_type": "execute_result"
    }
   ],
   "source": [
    "parser_output['metadata']"
   ]
  },
  {
   "cell_type": "code",
   "execution_count": 12,
   "id": "c79821ea",
   "metadata": {},
   "outputs": [
    {
     "data": {
      "text/plain": [
       "{'type': 'text',\n",
       " 'content': '7  \\n  \\n1.   \\nGIỚI THIỆU TỔNG QUAN',\n",
       " 'metadata': {'page_number': 1,\n",
       "  'bbox': (85.10399627685547,\n",
       "   36.212650299072266,\n",
       "   318.42999267578125,\n",
       "   80.19261169433594)}}"
      ]
     },
     "execution_count": 12,
     "metadata": {},
     "output_type": "execute_result"
    }
   ],
   "source": [
    "parser_output['raw_elements'][0]"
   ]
  },
  {
   "cell_type": "code",
   "execution_count": 13,
   "id": "e1c82766",
   "metadata": {},
   "outputs": [
    {
     "data": {
      "text/plain": [
       "{'type': 'text',\n",
       " 'content': '1.1   \\nĐối tượng sử dụng',\n",
       " 'metadata': {'page_number': 1,\n",
       "  'bbox': (85.10399627685547, 89.7938003540039, 236.0, 105.53263854980469)}}"
      ]
     },
     "execution_count": 13,
     "metadata": {},
     "output_type": "execute_result"
    }
   ],
   "source": [
    "parser_output['raw_elements'][1]"
   ]
  },
  {
   "cell_type": "code",
   "execution_count": 14,
   "id": "bae77cc0",
   "metadata": {},
   "outputs": [
    {
     "data": {
      "text/plain": [
       "{'type': 'text',\n",
       " 'content': '-   \\nDùng cho công dân Việt Nam có căn cước công dân gắn chíp thực hiện  \\nđăng ký tài khoản Định danh diện tử',\n",
       " 'metadata': {'page_number': 1,\n",
       "  'bbox': (85.10399627685547,\n",
       "   115.23380279541016,\n",
       "   542.2900390625,\n",
       "   150.2926483154297)}}"
      ]
     },
     "execution_count": 14,
     "metadata": {},
     "output_type": "execute_result"
    }
   ],
   "source": [
    "parser_output['raw_elements'][2]"
   ]
  },
  {
   "cell_type": "code",
   "execution_count": 17,
   "id": "7ebb7a75",
   "metadata": {},
   "outputs": [
    {
     "data": {
      "text/plain": [
       "{'type': 'text',\n",
       " 'content': '1.   \\nMục A: Giới thiệu tổng quan',\n",
       " 'metadata': {'page_number': 1,\n",
       "  'bbox': (85.10399627685547,\n",
       "   210.51376342773438,\n",
       "   287.2400207519531,\n",
       "   226.2526092529297)}}"
      ]
     },
     "execution_count": 17,
     "metadata": {},
     "output_type": "execute_result"
    }
   ],
   "source": [
    "parser_output['raw_elements'][5]"
   ]
  },
  {
   "cell_type": "code",
   "execution_count": 18,
   "id": "18dc81e8",
   "metadata": {},
   "outputs": [
    {
     "name": "stdout",
     "output_type": "stream",
     "text": [
      "[{'content': '1.   \\nMục A: Giới thiệu tổng quan',\n",
      "  'metadata': {'bbox': (85.10399627685547,\n",
      "                        210.51376342773438,\n",
      "                        287.2400207519531,\n",
      "                        226.2526092529297),\n",
      "               'page_number': 1},\n",
      "  'type': 'text'},\n",
      " {'content': '2.   \\n'\n",
      "             'Mục B: Hướng dẫn các chức năng hệ thống có trên APP cho người '\n",
      "             'dân sử  \\n'\n",
      "             'dụng.',\n",
      "  'metadata': {'bbox': (85.10399627685547,\n",
      "                        235.83377075195312,\n",
      "                        542.2900390625,\n",
      "                        270.89263916015625),\n",
      "               'page_number': 1},\n",
      "  'type': 'text'},\n",
      " {'content': '1.3   \\n Thuật ngữ viết tắt',\n",
      "  'metadata': {'bbox': (85.10399627685547,\n",
      "                        280.7438049316406,\n",
      "                        236.47999572753906,\n",
      "                        296.482666015625),\n",
      "               'page_number': 1},\n",
      "  'type': 'text'},\n",
      " {'content': 'STT  \\nThuật ngữ   \\nÝ nghĩa',\n",
      "  'metadata': {'bbox': (91.8239974975586,\n",
      "                        312.620361328125,\n",
      "                        435.82000732421875,\n",
      "                        328.16265869140625),\n",
      "               'page_number': 1},\n",
      "  'type': 'text'},\n",
      " {'content': '1  \\nCCCD  \\nCăn cước công dân',\n",
      "  'metadata': {'bbox': (100.81999969482422,\n",
      "                        349.2203369140625,\n",
      "                        392.6199951171875,\n",
      "                        364.76263427734375),\n",
      "               'page_number': 1},\n",
      "  'type': 'text'}]\n"
     ]
    }
   ],
   "source": [
    "from pprint import pprint\n",
    "pprint(parser_output['raw_elements'][5:10])"
   ]
  },
  {
   "cell_type": "code",
   "execution_count": null,
   "id": "860f0b3c",
   "metadata": {},
   "outputs": [],
   "source": []
  }
 ],
 "metadata": {
  "kernelspec": {
   "display_name": "poly-parser",
   "language": "python",
   "name": "python3"
  },
  "language_info": {
   "codemirror_mode": {
    "name": "ipython",
    "version": 3
   },
   "file_extension": ".py",
   "mimetype": "text/x-python",
   "name": "python",
   "nbconvert_exporter": "python",
   "pygments_lexer": "ipython3",
   "version": "3.12.10"
  }
 },
 "nbformat": 4,
 "nbformat_minor": 5
}
